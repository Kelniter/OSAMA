{
  "cells": [
    {
      "cell_type": "code",
      "execution_count": null,
      "metadata": {
        "id": "wHdMQQ2gq1um"
      },
      "outputs": [],
      "source": [
        "!pip install apache_beam[interactive] stopwords --q\n",
        "\n",
        "import numpy\n",
        "\n",
        "import tensorflow as tf\n",
        "\n",
        "import tensorflow_datasets as tfds\n",
        "\n",
        "tfds.disable_progress_bar()"
      ]
    },
    {
      "cell_type": "code",
      "execution_count": 5,
      "metadata": {
        "id": "W7w7XyvbrKrE",
        "outputId": "847c3e6f-59d1-4de9-8bc4-8c9b3d2c0769",
        "colab": {
          "base_uri": "https://localhost:8080/"
        }
      },
      "outputs": [
        {
          "output_type": "stream",
          "name": "stdout",
          "text": [
            "Downloading and preparing dataset 80.23 MiB (download: 80.23 MiB, generated: Unknown size, total: 80.23 MiB) to /root/tensorflow_datasets/imdb_reviews/plain_text/1.0.0...\n",
            "Dataset imdb_reviews downloaded and prepared to /root/tensorflow_datasets/imdb_reviews/plain_text/1.0.0. Subsequent calls will reuse this data.\n"
          ]
        }
      ],
      "source": [
        "import tensorflow.keras.layers as layers\n",
        "\n",
        "import tensorflow.keras.utils as utils\n",
        "\n",
        "data = \"imdb_reviews\"; ontrue = True\n",
        "\n",
        "(train, testi), info = tfds.load(data, split=[\"train\", \"test\"], with_info=ontrue, as_supervised=ontrue)"
      ]
    },
    {
      "cell_type": "code",
      "execution_count": 6,
      "metadata": {
        "colab": {
          "base_uri": "https://localhost:8080/"
        },
        "id": "tJdh5T7fwjsG",
        "outputId": "56b3d13e-8a72-4638-866f-4a1172efc021"
      },
      "outputs": [
        {
          "output_type": "execute_result",
          "data": {
            "text/plain": [
              "(25000, 25000)"
            ]
          },
          "metadata": {},
          "execution_count": 6
        }
      ],
      "source": [
        "info.splits[\"train\"].num_examples, info.splits[\"test\"].num_examples"
      ]
    },
    {
      "cell_type": "code",
      "execution_count": 7,
      "metadata": {
        "id": "PWKyjjiwwxVb"
      },
      "outputs": [],
      "source": [
        "from stopwords import get_stopwords\n",
        "\n",
        "unlist = get_stopwords(\"english\")"
      ]
    },
    {
      "cell_type": "code",
      "execution_count": 8,
      "metadata": {
        "id": "MgoSHTFowndo"
      },
      "outputs": [],
      "source": [
        "train_input = []\n",
        "train_label = []\n",
        "\n",
        "testi_input = []\n",
        "testi_label = []\n",
        "\n",
        "retori = lambda snt : [i for i in snt.lower().split() if i not in unlist]\n",
        "\n",
        "for data, label in train:\n",
        "  retari = \" \".join(retori(data.numpy().decode(\"utf8\")))\n",
        "  train_input.append(retari)\n",
        "  train_label.append(label.numpy())\n",
        "\n",
        "for data, label in testi:\n",
        "  retari = \" \".join(retori(data.numpy().decode(\"utf8\")))\n",
        "  testi_input.append(retari)\n",
        "  testi_label.append(label.numpy())"
      ]
    },
    {
      "cell_type": "code",
      "execution_count": 9,
      "metadata": {
        "colab": {
          "base_uri": "https://localhost:8080/"
        },
        "id": "qafTfeNXxixb",
        "outputId": "ae96e546-3455-40f5-9a3d-1a01a7fd092a"
      },
      "outputs": [
        {
          "output_type": "execute_result",
          "data": {
            "text/plain": [
              "(25000, 25000, 25000, 25000)"
            ]
          },
          "metadata": {},
          "execution_count": 9
        }
      ],
      "source": [
        "len(train_input), len(testi_input), len(train_label), len(testi_label)"
      ]
    },
    {
      "cell_type": "code",
      "execution_count": 10,
      "metadata": {
        "id": "fZkrBbrTyJHS"
      },
      "outputs": [],
      "source": [
        "vector = layers.TextVectorization(max_tokens=10)\n",
        "\n",
        "sample = [\"aku suka ikan\", \"ikan goreng\", \"ibu masak ikan\"]\n",
        "\n",
        "vector.adapt(sample)"
      ]
    },
    {
      "cell_type": "code",
      "execution_count": 11,
      "metadata": {
        "colab": {
          "base_uri": "https://localhost:8080/"
        },
        "id": "yEHpYNj51Q52",
        "outputId": "6bc8c7e7-4355-4216-bec5-03ca342eb3f9"
      },
      "outputs": [
        {
          "output_type": "execute_result",
          "data": {
            "text/plain": [
              "['', '[UNK]', 'ikan', 'suka', 'masak', 'ibu', 'goreng', 'aku']"
            ]
          },
          "metadata": {},
          "execution_count": 11
        }
      ],
      "source": [
        "vector.get_vocabulary()"
      ]
    },
    {
      "cell_type": "code",
      "execution_count": 12,
      "metadata": {
        "colab": {
          "base_uri": "https://localhost:8080/",
          "height": 36
        },
        "id": "7QgDwfKA1h-r",
        "outputId": "fc3807f2-4197-4c6d-d6b0-7213058c74d9"
      },
      "outputs": [
        {
          "output_type": "execute_result",
          "data": {
            "text/plain": [
              "'ibu'"
            ],
            "application/vnd.google.colaboratory.intrinsic+json": {
              "type": "string"
            }
          },
          "metadata": {},
          "execution_count": 12
        }
      ],
      "source": [
        "vector.get_vocabulary()[5]"
      ]
    },
    {
      "cell_type": "code",
      "execution_count": 13,
      "metadata": {
        "colab": {
          "base_uri": "https://localhost:8080/"
        },
        "id": "7TsxCYTT1VSL",
        "outputId": "ad36cffb-2d0d-404f-e7a9-c009038d0bc2"
      },
      "outputs": [
        {
          "output_type": "execute_result",
          "data": {
            "text/plain": [
              "array([[2, 4, 5, 1]])"
            ]
          },
          "metadata": {},
          "execution_count": 13
        }
      ],
      "source": [
        "samplet = [\"ikan masak ibu tadi\"]\n",
        "\n",
        "vector(samplet).numpy()"
      ]
    },
    {
      "cell_type": "code",
      "execution_count": 14,
      "metadata": {
        "colab": {
          "base_uri": "https://localhost:8080/"
        },
        "id": "3usdUe7e2PlC",
        "outputId": "620572c2-5ff4-4891-9276-07e39a26dd4c"
      },
      "outputs": [
        {
          "output_type": "execute_result",
          "data": {
            "text/plain": [
              "8"
            ]
          },
          "metadata": {},
          "execution_count": 14
        }
      ],
      "source": [
        "len(vector.get_vocabulary())"
      ]
    },
    {
      "cell_type": "code",
      "execution_count": 20,
      "metadata": {
        "id": "D10Mgfl13I5i"
      },
      "outputs": [],
      "source": [
        "# del vector\n",
        "\n",
        "max_tokens = 15000\n",
        "\n",
        "embedding = 16\n",
        "\n",
        "output_sequence_length = 180\n",
        "\n",
        "tokener = layers.TextVectorization(\n",
        "  max_tokens=max_tokens, output_mode=\"int\",\n",
        "  pad_to_max_tokens=ontrue,\n",
        "  output_sequence_length=output_sequence_length)\n",
        "\n",
        "tokener.adapt(train_input)"
      ]
    },
    {
      "cell_type": "code",
      "execution_count": 21,
      "metadata": {
        "id": "iZ8XheZs4UYW"
      },
      "outputs": [],
      "source": [
        "train_input = numpy.array(tokener(train_input))\n",
        "\n",
        "testi_input = numpy.array(tokener(testi_input))"
      ]
    },
    {
      "cell_type": "code",
      "execution_count": 22,
      "metadata": {
        "colab": {
          "base_uri": "https://localhost:8080/"
        },
        "id": "Gf-GpH8Z7iAk",
        "outputId": "16c3f71c-1a4c-479a-9d11-a855f8a44a97"
      },
      "outputs": [
        {
          "output_type": "execute_result",
          "data": {
            "text/plain": [
              "array([0, 0, 0, 1, 1])"
            ]
          },
          "metadata": {},
          "execution_count": 22
        }
      ],
      "source": [
        "train_label = numpy.array(train_label)\n",
        "\n",
        "train_label[:5]"
      ]
    },
    {
      "cell_type": "code",
      "execution_count": 23,
      "metadata": {
        "colab": {
          "base_uri": "https://localhost:8080/"
        },
        "id": "7oinUwh97u2R",
        "outputId": "62362c27-39c1-46e1-fa35-6572bb1776b8"
      },
      "outputs": [
        {
          "output_type": "execute_result",
          "data": {
            "text/plain": [
              "array([1, 1, 0, 0, 1])"
            ]
          },
          "metadata": {},
          "execution_count": 23
        }
      ],
      "source": [
        "testi_label = numpy.array(testi_label)\n",
        "\n",
        "testi_label[:5]"
      ]
    },
    {
      "cell_type": "code",
      "execution_count": 24,
      "metadata": {
        "id": "E-wCR88Z7xho"
      },
      "outputs": [],
      "source": [
        "inputs = layers.Input(shape=(output_sequence_length,))\n",
        "\n",
        "x = layers.Embedding(max_tokens, embedding)(inputs)\n",
        "x = layers.Dropout(0.2)(x)\n",
        "x = layers.GlobalAveragePooling1D()(x)\n",
        "x = layers.Dropout(0.2)(x)\n",
        "outputs = layers.Dense(1, activation='sigmoid')(x)\n",
        "\n",
        "model = tf.keras.Model(inputs=inputs, outputs=outputs)"
      ]
    },
    {
      "cell_type": "code",
      "execution_count": 25,
      "metadata": {
        "id": "Zp1HRQQ-9soy",
        "outputId": "a631bb7b-c212-42c4-eb4c-c747838ad339",
        "colab": {
          "base_uri": "https://localhost:8080/"
        }
      },
      "outputs": [
        {
          "output_type": "stream",
          "name": "stdout",
          "text": [
            "Epoch 1/5\n",
            "782/782 [==============================] - 67s 82ms/step - loss: 0.6462 - accuracy: 0.7528 - val_loss: 0.5723 - val_accuracy: 0.8275\n",
            "Epoch 2/5\n",
            "782/782 [==============================] - 21s 27ms/step - loss: 0.4810 - accuracy: 0.8510 - val_loss: 0.4396 - val_accuracy: 0.8490\n",
            "Epoch 3/5\n",
            "782/782 [==============================] - 13s 17ms/step - loss: 0.3687 - accuracy: 0.8785 - val_loss: 0.3685 - val_accuracy: 0.8670\n",
            "Epoch 4/5\n",
            "782/782 [==============================] - 12s 15ms/step - loss: 0.3076 - accuracy: 0.8958 - val_loss: 0.3364 - val_accuracy: 0.8708\n",
            "Epoch 5/5\n",
            "782/782 [==============================] - 8s 10ms/step - loss: 0.2688 - accuracy: 0.9077 - val_loss: 0.3155 - val_accuracy: 0.8753\n"
          ]
        }
      ],
      "source": [
        "model.compile(optimizer=\"adam\", loss=\"binary_crossentropy\", metrics=[\"accuracy\"])\n",
        "\n",
        "plot = model.fit(train_input, train_label, epochs=5, validation_data=(testi_input, testi_label))"
      ]
    },
    {
      "cell_type": "code",
      "execution_count": 26,
      "metadata": {
        "colab": {
          "base_uri": "https://localhost:8080/"
        },
        "id": "LJmKwO7y-408",
        "outputId": "6d04d952-d8bb-4ba0-da27-6a1da10f62c3"
      },
      "outputs": [
        {
          "output_type": "stream",
          "name": "stdout",
          "text": [
            "782/782 [==============================] - 2s 3ms/step - loss: 0.2448 - accuracy: 0.9164\n"
          ]
        },
        {
          "output_type": "execute_result",
          "data": {
            "text/plain": [
              "[0.2447609007358551, 0.9163600206375122]"
            ]
          },
          "metadata": {},
          "execution_count": 26
        }
      ],
      "source": [
        "model.evaluate(train_input, train_label)"
      ]
    },
    {
      "cell_type": "code",
      "execution_count": 27,
      "metadata": {
        "colab": {
          "base_uri": "https://localhost:8080/"
        },
        "id": "y_cshVuy_AOq",
        "outputId": "a70548e8-c520-4902-c72d-40fb5edbd980"
      },
      "outputs": [
        {
          "output_type": "stream",
          "name": "stdout",
          "text": [
            "782/782 [==============================] - 2s 2ms/step - loss: 0.3155 - accuracy: 0.8753\n"
          ]
        },
        {
          "output_type": "execute_result",
          "data": {
            "text/plain": [
              "[0.31552815437316895, 0.8752800226211548]"
            ]
          },
          "metadata": {},
          "execution_count": 27
        }
      ],
      "source": [
        "model.evaluate(testi_input, testi_label)"
      ]
    },
    {
      "cell_type": "code",
      "execution_count": 28,
      "metadata": {
        "id": "G_Ej7sE5_Pw8"
      },
      "outputs": [],
      "source": [
        "import os\n",
        "\n",
        "model.save(\"/content/modeler\")"
      ]
    },
    {
      "cell_type": "code",
      "execution_count": 29,
      "metadata": {
        "id": "mxerKBuLrjSV"
      },
      "outputs": [],
      "source": [
        "import warnings\n",
        "\n",
        "import apache_beam as beam\n",
        "\n",
        "warnings.filterwarnings(\"ignore\")"
      ]
    },
    {
      "cell_type": "code",
      "execution_count": 30,
      "metadata": {
        "id": "in4Qnew__e1_"
      },
      "outputs": [],
      "source": [
        "from apache_beam.ml.inference.tensorflow_inference import TFModelHandlerTensor\n",
        "\n",
        "tensor = TFModelHandlerTensor(\"/content/modeler\")\n",
        "\n",
        "from apache_beam.ml.inference.base import RunInference"
      ]
    },
    {
      "cell_type": "code",
      "execution_count": 31,
      "metadata": {
        "colab": {
          "base_uri": "https://localhost:8080/"
        },
        "id": "of_sVOXR_nvk",
        "outputId": "7ab86d26-7b26-4166-b1e3-0708ca8ee8fb"
      },
      "outputs": [
        {
          "output_type": "execute_result",
          "data": {
            "text/plain": [
              "10"
            ]
          },
          "metadata": {},
          "execution_count": 31
        }
      ],
      "source": [
        "trainer = train_input[:10]\n",
        "\n",
        "len(trainer)"
      ]
    },
    {
      "cell_type": "code",
      "execution_count": 32,
      "metadata": {
        "id": "By05uTGdAUkn"
      },
      "outputs": [],
      "source": [
        "falter = lambda t : t.inference.numpy()[0].round()"
      ]
    },
    {
      "cell_type": "code",
      "execution_count": 33,
      "metadata": {
        "colab": {
          "base_uri": "https://localhost:8080/",
          "height": 34
        },
        "id": "DM2ZMyN8r2E6",
        "outputId": "7c3d17c9-b930-4cf7-c652-953d4c405a32"
      },
      "outputs": [
        {
          "output_type": "display_data",
          "data": {
            "application/javascript": [
              "\n",
              "        if (typeof window.interactive_beam_jquery == 'undefined') {\n",
              "          var jqueryScript = document.createElement('script');\n",
              "          jqueryScript.src = 'https://code.jquery.com/jquery-3.4.1.slim.min.js';\n",
              "          jqueryScript.type = 'text/javascript';\n",
              "          jqueryScript.onload = function() {\n",
              "            var datatableScript = document.createElement('script');\n",
              "            datatableScript.src = 'https://cdn.datatables.net/1.10.20/js/jquery.dataTables.min.js';\n",
              "            datatableScript.type = 'text/javascript';\n",
              "            datatableScript.onload = function() {\n",
              "              window.interactive_beam_jquery = jQuery.noConflict(true);\n",
              "              window.interactive_beam_jquery(document).ready(function($){\n",
              "                \n",
              "              });\n",
              "            }\n",
              "            document.head.appendChild(datatableScript);\n",
              "          };\n",
              "          document.head.appendChild(jqueryScript);\n",
              "        } else {\n",
              "          window.interactive_beam_jquery(document).ready(function($){\n",
              "            \n",
              "          });\n",
              "        }"
            ]
          },
          "metadata": {}
        },
        {
          "output_type": "stream",
          "name": "stdout",
          "text": [
            "[0.0, 0.0, 1.0, 1.0, 1.0, 1.0, 0.0, 1.0, 0.0, 0.0]\n"
          ]
        }
      ],
      "source": [
        "with beam.Pipeline() as pipeline:\n",
        "  runner = (\n",
        "    pipeline\n",
        "    | 'Create' >> beam.Create(trainer)\n",
        "    | 'RunInference' >> RunInference(tensor)\n",
        "    | 'Outer' >> beam.Map(falter)\n",
        "    | 'Unlist' >> beam.combiners.ToList()\n",
        "    | 'Output' >> beam.Map(print)\n",
        "  )"
      ]
    },
    {
      "cell_type": "code",
      "execution_count": null,
      "metadata": {
        "colab": {
          "base_uri": "https://localhost:8080/"
        },
        "id": "pPZJOm-HHyAt",
        "outputId": "1ba66a17-aa3c-4f3c-8f31-b4068ddcc4e8"
      },
      "outputs": [
        {
          "data": {
            "text/plain": [
              "array([0, 0, 0, 1, 1, 1, 0, 0, 0, 0])"
            ]
          },
          "execution_count": 26,
          "metadata": {},
          "output_type": "execute_result"
        }
      ],
      "source": [
        "train_label[:10]"
      ]
    },
    {
      "cell_type": "code",
      "execution_count": null,
      "metadata": {
        "id": "s7UT1e9xJU1g"
      },
      "outputs": [],
      "source": [
        "errori = tf.keras.losses.BinaryCrossentropy()\n",
        "\n",
        "class ValError(beam.DoFn):\n",
        "  def process(self, element):\n",
        "    yield errori(train_label[:10], element).numpy()"
      ]
    },
    {
      "cell_type": "code",
      "execution_count": null,
      "metadata": {
        "colab": {
          "base_uri": "https://localhost:8080/"
        },
        "id": "GNTRuRysH1nK",
        "outputId": "289e2934-7ec5-418a-b25a-e8c1d1966a0b"
      },
      "outputs": [
        {
          "name": "stdout",
          "output_type": "stream",
          "text": [
            "3.0666478\n"
          ]
        }
      ],
      "source": [
        "with beam.Pipeline() as pipeline:\n",
        "  runner = (\n",
        "    pipeline\n",
        "    | 'Create' >> beam.Create(trainer)\n",
        "    | 'RunInference' >> RunInference(tensor)\n",
        "    | 'Outer' >> beam.Map(falter)\n",
        "    | 'Unlist' >> beam.combiners.ToList()\n",
        "    | 'Unruly' >> beam.ParDo(ValError())\n",
        "    | 'Output' >> beam.LogElements()\n",
        "  )"
      ]
    }
  ],
  "metadata": {
    "accelerator": "GPU",
    "colab": {
      "gpuType": "T4",
      "provenance": []
    },
    "kernelspec": {
      "display_name": "Python 3 (ipykernel)",
      "language": "python",
      "name": "python3"
    },
    "language_info": {
      "codemirror_mode": {
        "name": "ipython",
        "version": 3
      },
      "file_extension": ".py",
      "mimetype": "text/x-python",
      "name": "python",
      "nbconvert_exporter": "python",
      "pygments_lexer": "ipython3",
      "version": "3.9.13"
    }
  },
  "nbformat": 4,
  "nbformat_minor": 0
}