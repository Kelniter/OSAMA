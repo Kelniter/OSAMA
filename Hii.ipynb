{
 "cells": [
  {
   "cell_type": "code",
   "execution_count": 1,
   "metadata": {
    "id": "wHdMQQ2gq1um"
   },
   "outputs": [],
   "source": [
    "import numpy\n",
    "\n",
    "import tensorflow as tf\n",
    "\n",
    "import tensorflow_datasets as tfds\n",
    "\n",
    "tfds.disable_progress_bar()"
   ]
  },
  {
   "cell_type": "code",
   "execution_count": 2,
   "metadata": {
    "id": "W7w7XyvbrKrE"
   },
   "outputs": [],
   "source": [
    "import tensorflow.keras.layers as layers\n",
    "\n",
    "import tensorflow.keras.utils as utils\n",
    "\n",
    "data = \"imdb_reviews\"\n",
    "\n",
    "(train, testi), info = tfds.load(data, split=[\"train\", \"test\"])"
   ]
  },
  {
   "cell_type": "code",
   "execution_count": 3,
   "metadata": {
    "colab": {
     "base_uri": "https://localhost:8080/"
    },
    "id": "tJdh5T7fwjsG",
    "outputId": "896014c0-50ed-40f9-97e8-82e4e2e35fd0"
   },
   "outputs": [
    {
     "data": {
      "text/plain": [
       "(25000, 25000)"
      ]
     },
     "execution_count": 3,
     "metadata": {},
     "output_type": "execute_result"
    }
   ],
   "source": [
    "info.splits[\"train\"].num_examples, info.splits[\"test\"].num_examples"
   ]
  },
  {
   "cell_type": "code",
   "execution_count": 4,
   "metadata": {
    "id": "PWKyjjiwwxVb"
   },
   "outputs": [],
   "source": [
    "from stopwords import get_stopwords\n",
    "\n",
    "unlist = get_stopwords(\"english\")"
   ]
  },
  {
   "cell_type": "code",
   "execution_count": 5,
   "metadata": {
    "id": "MgoSHTFowndo"
   },
   "outputs": [],
   "source": [
    "train_input = []\n",
    "train_label = []\n",
    "\n",
    "testi_input = []\n",
    "testi_label = []\n",
    "\n",
    "retori = lambda snt : [i for i in snt.lower().split() if i not in unlist]\n",
    "\n",
    "for data, label in train:\n",
    "  retari = \" \".join(retori(data.numpy().decode(\"utf8\")))\n",
    "  train_input.append(retari)\n",
    "  train_label.append(label.numpy())\n",
    "\n",
    "for data, label in testi:\n",
    "  retari = \" \".join(retori(data.numpy().decode(\"utf8\")))\n",
    "  testi_input.append(retari)\n",
    "  testi_label.append(label.numpy())"
   ]
  },
  {
   "cell_type": "code",
   "execution_count": 6,
   "metadata": {
    "colab": {
     "base_uri": "https://localhost:8080/"
    },
    "id": "qafTfeNXxixb",
    "outputId": "df20e43f-5305-43ee-fe06-710987f8c0e7"
   },
   "outputs": [
    {
     "data": {
      "text/plain": [
       "(25000, 25000, 25000, 25000)"
      ]
     },
     "execution_count": 6,
     "metadata": {},
     "output_type": "execute_result"
    }
   ],
   "source": [
    "len(train_input), len(testi_input), len(train_label), len(testi_label)"
   ]
  },
  {
   "cell_type": "code",
   "execution_count": 7,
   "metadata": {
    "id": "fZkrBbrTyJHS"
   },
   "outputs": [],
   "source": [
    "vector = layers.TextVectorization(max_tokens=10)\n",
    "\n",
    "sample = [\"aku suka ikan\", \"ikan goreng\", \"ibu masak ikan\"]\n",
    "\n",
    "vector.adapt(sample)"
   ]
  },
  {
   "cell_type": "code",
   "execution_count": 8,
   "metadata": {
    "colab": {
     "base_uri": "https://localhost:8080/"
    },
    "id": "yEHpYNj51Q52",
    "outputId": "7da329b9-58e7-4c38-d518-7fd574942e3f"
   },
   "outputs": [
    {
     "data": {
      "text/plain": [
       "['', '[UNK]', 'ikan', 'suka', 'masak', 'ibu', 'goreng', 'aku']"
      ]
     },
     "execution_count": 8,
     "metadata": {},
     "output_type": "execute_result"
    }
   ],
   "source": [
    "vector.get_vocabulary()"
   ]
  },
  {
   "cell_type": "code",
   "execution_count": 9,
   "metadata": {
    "colab": {
     "base_uri": "https://localhost:8080/",
     "height": 36
    },
    "id": "7QgDwfKA1h-r",
    "outputId": "b2c55f98-c071-438d-9c07-b94224346a38"
   },
   "outputs": [
    {
     "data": {
      "application/vnd.google.colaboratory.intrinsic+json": {
       "type": "string"
      },
      "text/plain": [
       "'ibu'"
      ]
     },
     "execution_count": 9,
     "metadata": {},
     "output_type": "execute_result"
    }
   ],
   "source": [
    "vector.get_vocabulary()[5]"
   ]
  },
  {
   "cell_type": "code",
   "execution_count": 10,
   "metadata": {
    "colab": {
     "base_uri": "https://localhost:8080/"
    },
    "id": "7TsxCYTT1VSL",
    "outputId": "1cc31bb0-2806-425d-aca2-5cfc87e70c04"
   },
   "outputs": [
    {
     "data": {
      "text/plain": [
       "array([[2, 4, 5, 1]])"
      ]
     },
     "execution_count": 10,
     "metadata": {},
     "output_type": "execute_result"
    }
   ],
   "source": [
    "samplet = [\"ikan masak ibu tadi\"]\n",
    "\n",
    "vector(samplet).numpy()"
   ]
  },
  {
   "cell_type": "code",
   "execution_count": 11,
   "metadata": {
    "colab": {
     "base_uri": "https://localhost:8080/"
    },
    "id": "3usdUe7e2PlC",
    "outputId": "f723e78d-ca8f-4641-d356-917cc071fc70"
   },
   "outputs": [
    {
     "data": {
      "text/plain": [
       "8"
      ]
     },
     "execution_count": 11,
     "metadata": {},
     "output_type": "execute_result"
    }
   ],
   "source": [
    "len(vector.get_vocabulary())"
   ]
  },
  {
   "cell_type": "code",
   "execution_count": 12,
   "metadata": {
    "id": "D10Mgfl13I5i"
   },
   "outputs": [],
   "source": [
    "del vector\n",
    "\n",
    "max_tokens = 15000\n",
    "\n",
    "embedding = 16\n",
    "\n",
    "output_sequence_length = 180\n",
    "\n",
    "tokener = layers.TextVectorization(\n",
    "  max_tokens=max_tokens, output_mode=\"int\",\n",
    "  pad_to_max_tokens=true,\n",
    "  output_sequence_length=output_sequence_length)\n",
    "\n",
    "tokener.adapt(train_input)"
   ]
  },
  {
   "cell_type": "code",
   "execution_count": 13,
   "metadata": {
    "id": "iZ8XheZs4UYW"
   },
   "outputs": [],
   "source": [
    "train_input = numpy.array(tokener(train_input))\n",
    "\n",
    "testi_input = numpy.array(tokener(testi_input))"
   ]
  },
  {
   "cell_type": "code",
   "execution_count": 14,
   "metadata": {
    "colab": {
     "base_uri": "https://localhost:8080/"
    },
    "id": "Gf-GpH8Z7iAk",
    "outputId": "ff3795a7-b720-4a20-89bd-620c1acc0615"
   },
   "outputs": [
    {
     "data": {
      "text/plain": [
       "array([0, 0, 0, 1, 1])"
      ]
     },
     "execution_count": 14,
     "metadata": {},
     "output_type": "execute_result"
    }
   ],
   "source": [
    "train_label = numpy.array(train_label)\n",
    "\n",
    "train_label[:5]"
   ]
  },
  {
   "cell_type": "code",
   "execution_count": 15,
   "metadata": {
    "colab": {
     "base_uri": "https://localhost:8080/"
    },
    "id": "7oinUwh97u2R",
    "outputId": "d71972b2-1eed-436a-cadd-24b176c9f187"
   },
   "outputs": [
    {
     "data": {
      "text/plain": [
       "array([1, 1, 0, 0, 1])"
      ]
     },
     "execution_count": 15,
     "metadata": {},
     "output_type": "execute_result"
    }
   ],
   "source": [
    "testi_label = numpy.array(testi_label)\n",
    "\n",
    "testi_label[:5]"
   ]
  },
  {
   "cell_type": "code",
   "execution_count": 16,
   "metadata": {
    "id": "E-wCR88Z7xho"
   },
   "outputs": [],
   "source": [
    "inputs = layers.Input(shape=(output_sequence_length,))\n",
    "\n",
    "x = layers.Embedding(max_tokens, embedding)(inputs)\n",
    "x = layers.Dropout(0.2)(x)\n",
    "x = layers.GlobalAveragePooling1D()(x)\n",
    "x = layers.Dropout(0.2)(x)\n",
    "outputs = layers.Dense(1, activation='sigmoid')(x)\n",
    "\n",
    "model = tf.keras.Model(inputs=inputs, outputs=outputs)"
   ]
  },
  {
   "cell_type": "code",
   "execution_count": null,
   "metadata": {
    "id": "Zp1HRQQ-9soy"
   },
   "outputs": [],
   "source": [
    "model.compile(optimizer=\"adam\", loss=\"binary_crossentropy\", metrics=[\"accuracy\"])\n",
    "\n",
    "plot = model.fit(train_input, train_label, epochs=5, validation_data=(testi_input, testi_label))"
   ]
  },
  {
   "cell_type": "code",
   "execution_count": 18,
   "metadata": {
    "colab": {
     "base_uri": "https://localhost:8080/"
    },
    "id": "LJmKwO7y-408",
    "outputId": "75e5ecc8-ff87-4c35-de69-10ee06c5dd8e"
   },
   "outputs": [
    {
     "data": {
      "text/plain": [
       "[0.24619868397712708, 0.9145200252532959]"
      ]
     },
     "execution_count": 18,
     "metadata": {},
     "output_type": "execute_result"
    }
   ],
   "source": [
    "model.evaluate(train_input, train_label)"
   ]
  },
  {
   "cell_type": "code",
   "execution_count": 19,
   "metadata": {
    "colab": {
     "base_uri": "https://localhost:8080/"
    },
    "id": "y_cshVuy_AOq",
    "outputId": "0544926d-da38-41da-c8d3-08803178e1cb"
   },
   "outputs": [
    {
     "data": {
      "text/plain": [
       "[0.3160213530063629, 0.8745599985122681]"
      ]
     },
     "execution_count": 19,
     "metadata": {},
     "output_type": "execute_result"
    }
   ],
   "source": [
    "model.evaluate(testi_input, testi_label)"
   ]
  },
  {
   "cell_type": "code",
   "execution_count": 20,
   "metadata": {
    "id": "G_Ej7sE5_Pw8"
   },
   "outputs": [],
   "source": [
    "import os\n",
    "\n",
    "model.save(\"/content/modeler\")"
   ]
  },
  {
   "cell_type": "code",
   "execution_count": 21,
   "metadata": {
    "id": "mxerKBuLrjSV"
   },
   "outputs": [],
   "source": [
    "import warnings\n",
    "\n",
    "import apache_beam as beam\n",
    "\n",
    "warnings.filterwarnings(\"ignore\")"
   ]
  },
  {
   "cell_type": "code",
   "execution_count": 22,
   "metadata": {
    "id": "in4Qnew__e1_"
   },
   "outputs": [],
   "source": [
    "from apache_beam.ml.inference.tensorflow_inference import TFModelHandlerTensor\n",
    "\n",
    "tensor = TFModelHandlerTensor(\"/content/modeler\")\n",
    "\n",
    "from apache_beam.ml.inference.base import RunInference"
   ]
  },
  {
   "cell_type": "code",
   "execution_count": 23,
   "metadata": {
    "colab": {
     "base_uri": "https://localhost:8080/"
    },
    "id": "of_sVOXR_nvk",
    "outputId": "df3d93f7-c4cc-4c6b-918f-6e7648c704bd"
   },
   "outputs": [
    {
     "data": {
      "text/plain": [
       "10"
      ]
     },
     "execution_count": 23,
     "metadata": {},
     "output_type": "execute_result"
    }
   ],
   "source": [
    "trainer = train_input[:10]\n",
    "\n",
    "len(trainer)"
   ]
  },
  {
   "cell_type": "code",
   "execution_count": 24,
   "metadata": {
    "id": "By05uTGdAUkn"
   },
   "outputs": [],
   "source": [
    "falter = lambda t : t.inference.numpy()[0].round()"
   ]
  },
  {
   "cell_type": "code",
   "execution_count": 29,
   "metadata": {
    "colab": {
     "base_uri": "https://localhost:8080/"
    },
    "id": "DM2ZMyN8r2E6",
    "outputId": "86aed880-4392-4c71-ecad-4ae394e10e74"
   },
   "outputs": [
    {
     "name": "stdout",
     "output_type": "stream",
     "text": [
      "[0.0, 0.0, 1.0, 1.0, 1.0, 1.0, 0.0, 1.0, 0.0, 0.0]\n"
     ]
    }
   ],
   "source": [
    "with beam.Pipeline() as pipeline:\n",
    "  runner = (\n",
    "    pipeline\n",
    "    | 'Create' >> beam.Create(trainer)\n",
    "    | 'RunInference' >> RunInference(tensor)\n",
    "    | 'Outer' >> beam.Map(falter)\n",
    "    | 'Unlist' >> beam.combiners.ToList()\n",
    "    | 'Output' >> beam.LogElements()\n",
    "  )"
   ]
  },
  {
   "cell_type": "code",
   "execution_count": 26,
   "metadata": {
    "colab": {
     "base_uri": "https://localhost:8080/"
    },
    "id": "pPZJOm-HHyAt",
    "outputId": "1ba66a17-aa3c-4f3c-8f31-b4068ddcc4e8"
   },
   "outputs": [
    {
     "data": {
      "text/plain": [
       "array([0, 0, 0, 1, 1, 1, 0, 0, 0, 0])"
      ]
     },
     "execution_count": 26,
     "metadata": {},
     "output_type": "execute_result"
    }
   ],
   "source": [
    "train_label[:10]"
   ]
  },
  {
   "cell_type": "code",
   "execution_count": 27,
   "metadata": {
    "id": "s7UT1e9xJU1g"
   },
   "outputs": [],
   "source": [
    "errori = tf.keras.losses.BinaryCrossentropy()\n",
    "\n",
    "class ValError(beam.DoFn):\n",
    "  def process(self, element):\n",
    "    yield errori(train_label[:10], element).numpy()"
   ]
  },
  {
   "cell_type": "code",
   "execution_count": 28,
   "metadata": {
    "colab": {
     "base_uri": "https://localhost:8080/"
    },
    "id": "GNTRuRysH1nK",
    "outputId": "289e2934-7ec5-418a-b25a-e8c1d1966a0b"
   },
   "outputs": [
    {
     "name": "stdout",
     "output_type": "stream",
     "text": [
      "3.0666478\n"
     ]
    }
   ],
   "source": [
    "with beam.Pipeline() as pipeline:\n",
    "  runner = (\n",
    "    pipeline\n",
    "    | 'Create' >> beam.Create(trainer)\n",
    "    | 'RunInference' >> RunInference(tensor)\n",
    "    | 'Outer' >> beam.Map(falter)\n",
    "    | 'Unlist' >> beam.combiners.ToList()\n",
    "    | 'Unruly' >> beam.ParDo(ValError())\n",
    "    | 'Output' >> beam.LogElements()\n",
    "  )"
   ]
  }
 ],
 "metadata": {
  "accelerator": "GPU",
  "colab": {
   "gpuType": "T4",
   "provenance": []
  },
  "kernelspec": {
   "display_name": "Python 3 (ipykernel)",
   "language": "python",
   "name": "python3"
  },
  "language_info": {
   "codemirror_mode": {
    "name": "ipython",
    "version": 3
   },
   "file_extension": ".py",
   "mimetype": "text/x-python",
   "name": "python",
   "nbconvert_exporter": "python",
   "pygments_lexer": "ipython3",
   "version": "3.9.13"
  }
 },
 "nbformat": 4,
 "nbformat_minor": 4
}
